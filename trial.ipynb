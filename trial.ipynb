{
 "cells": [
  {
   "cell_type": "code",
   "execution_count": 6,
   "metadata": {},
   "outputs": [
    {
     "data": {
      "text/plain": [
       "'c:\\\\Users\\\\PRATEEK G\\\\Desktop\\\\Music Chatbot'"
      ]
     },
     "execution_count": 6,
     "metadata": {},
     "output_type": "execute_result"
    }
   ],
   "source": [
    "pwd"
   ]
  },
  {
   "cell_type": "markdown",
   "metadata": {},
   "source": [
    "# 1. DATA LOADER"
   ]
  },
  {
   "cell_type": "code",
   "execution_count": null,
   "metadata": {},
   "outputs": [],
   "source": [
    "import streamlit as st\n",
    "from langchain_community.document_loaders import PyPDFLoader\n",
    "from langchain.text_splitter import RecursiveCharacterTextSplitter\n",
    "from langchain_pinecone import PineconeEmbeddings, PineconeVectorStore\n",
    "from langchain_huggingface import HuggingFaceEmbeddings\n",
    "from langchain_chroma import Chroma\n",
    "from langchain_openai import AzureChatOpenAI\n",
    "from langchain.chains import create_retrieval_chain\n",
    "from langchain.chains.combine_documents import create_stuff_documents_chain\n",
    "from langchain import hub\n",
    "import os\n",
    "from dotenv import load_dotenv\n",
    "from pinecone import Pinecone, ServerlessSpec\n",
    "\n",
    "# Load environment variables\n",
    "load_dotenv(override=True)\n",
    "\n",
    "# Streamlit app\n",
    "st.title(\"Hindustani Music Document Analysis\")\n",
    "\n",
    "# File uploader\n",
    "uploaded_file = st.file_uploader(\"Choose a PDF file\", type=\"pdf\")\n",
    "if uploaded_file is not None:\n",
    "    # Load the PDF\n",
    "    loader = PyPDFLoader(uploaded_file)\n",
    "    docs = loader.load()\n",
    "\n",
    "    # Split the text\n",
    "    text_splitter = RecursiveCharacterTextSplitter(\n",
    "        chunk_size=500,\n",
    "        chunk_overlap=20\n",
    "    )\n",
    "    text_chunks = text_splitter.split_documents(docs)\n",
    "\n",
    "    # Embedding options\n",
    "    embedding_option = st.selectbox(\n",
    "        \"Choose an embedding method\",\n",
    "        (\"Pinecone\", \"Hugging Face\")\n",
    "    )\n",
    "\n",
    "    if embedding_option == \"Pinecone\":\n",
    "        model_name = 'multilingual-e5-large'\n",
    "        embeddings = PineconeEmbeddings(\n",
    "            model=model_name,\n",
    "            pinecone_api_key=os.environ.get('PINECONE_API_KEY')\n",
    "        )\n",
    "    else:\n",
    "        embeddings = HuggingFaceEmbeddings(model_name=\"sentence-transformers/all-MiniLM-L6-v2\")\n",
    "\n",
    "    # Generate embeddings\n",
    "    text_documents = [chunk.page_content for chunk in text_chunks]\n",
    "    word_embeddings = embeddings.embed_documents(text_documents)\n",
    "\n",
    "    # Vector store options\n",
    "    vector_store_option = st.selectbox(\n",
    "        \"Choose a vector store\",\n",
    "        (\"Pinecone\", \"Chroma\")\n",
    "    )\n",
    "\n",
    "    if vector_store_option == \"Pinecone\":\n",
    "\n",
    "        pc = Pinecone(api_key=os.environ.get(\"PINECONE_API_KEY\"))\n",
    "        index_name = \"musicbot\"\n",
    "        pc.create_index(\n",
    "            name=index_name,\n",
    "            dimension=384,\n",
    "            metric=\"cosine\",\n",
    "            spec=ServerlessSpec(\n",
    "                cloud='aws',\n",
    "                region='us-east-1'\n",
    "            )\n",
    "        )\n",
    "        docsearch = PineconeVectorStore.from_documents(\n",
    "            documents=text_chunks,\n",
    "            index_name=index_name,\n",
    "            embedding=embeddings,\n",
    "        )\n",
    "        db = docsearch\n",
    "    else:\n",
    "        db = Chroma.from_documents(\n",
    "            documents=text_chunks,\n",
    "            embedding=embeddings,\n",
    "        )\n",
    "\n",
    "    # Query input\n",
    "    query = st.text_input(\"Enter your query:\")\n",
    "    if query:\n",
    "        result = db.similarity_search(query)\n",
    "        st.write(result)\n",
    "\n",
    "    # Integrate with LLM\n",
    "    retriever = db.as_retriever()\n",
    "    llm = AzureChatOpenAI(\n",
    "        azure_deployment=\"gpt-4o\",  # or your deployment\n",
    "        api_version=\"2023-09-01-preview\",  # or your api version\n",
    "        temperature=0.6,\n",
    "    )\n",
    "    retrieval_qa_chat_prompt = hub.pull(\"langchain-ai/retrieval-qa-chat\")\n",
    "    combine_docs_chain = create_stuff_documents_chain(\n",
    "        llm, retrieval_qa_chat_prompt\n",
    "    )\n",
    "    retrieval_chain = create_retrieval_chain(retriever, combine_docs_chain)\n",
    "\n",
    "    # Final result\n",
    "    if query:\n",
    "        response = retrieval_chain.invoke({\"input\": query})\n",
    "        answer = response.get(\"answer\", \"I don't know the answer.\")\n",
    "        st.write(answer)"
   ]
  },
  {
   "cell_type": "code",
   "execution_count": 7,
   "metadata": {},
   "outputs": [],
   "source": [
    "from langchain_community.document_loaders import PyPDFLoader\n",
    "\n",
    "loader = PyPDFLoader(\"Data\\Hindustani_Music_ThBook1_Eng.pdf\")\n",
    "docs = loader.load()"
   ]
  },
  {
   "cell_type": "code",
   "execution_count": null,
   "metadata": {},
   "outputs": [
    {
     "data": {
      "text/plain": [
       "True"
      ]
     },
     "execution_count": 30,
     "metadata": {},
     "output_type": "execute_result"
    }
   ],
   "source": [
    "import os\n",
    "from dotenv import load_dotenv"
   ]
  },
  {
   "cell_type": "code",
   "execution_count": 122,
   "metadata": {},
   "outputs": [
    {
     "data": {
      "text/plain": [
       "True"
      ]
     },
     "execution_count": 122,
     "metadata": {},
     "output_type": "execute_result"
    }
   ],
   "source": [
    "load_dotenv(override=True)"
   ]
  },
  {
   "cell_type": "markdown",
   "metadata": {},
   "source": [
    "# 2. TEXT SPLITTING"
   ]
  },
  {
   "cell_type": "code",
   "execution_count": null,
   "metadata": {},
   "outputs": [],
   "source": [
    "from langchain.text_splitter import RecursiveCharacterTextSplitter\n",
    "\n",
    "text_splitter = RecursiveCharacterTextSplitter(\n",
    "    chunk_size=500,\n",
    "    chunk_overlap=20\n",
    ")\n",
    "\n",
    "text_chunks = text_splitter.split_documents(docs)\n",
    "\n",
    "\n"
   ]
  },
  {
   "cell_type": "code",
   "execution_count": null,
   "metadata": {},
   "outputs": [
    {
     "data": {
      "text/plain": [
       "AIMessage(content='Music is an art form and cultural expression that uses sound as its primary medium. It is created through the organization of elements like pitch (melody and harmony), rhythm (tempo, meter, and articulation), dynamics (loudness and softness), and timbre (tone color or quality). Music can be vocal, instrumental, or a combination of both, and it exists in a wide variety of styles and genres across different cultures and traditions.\\n\\nAt its core, music serves as a means of communication and emotional expression. It can evoke feelings, tell stories, inspire movement, foster connection, and provide a sense of identity or belonging. Music can be experienced individually or collectively, and it plays a significant role in rituals, celebrations, entertainment, education, and even therapy.\\n\\nFrom simple folk tunes to complex symphonies, music is a universal human phenomenon that transcends language and cultural barriers, yet it is deeply shaped by the context in which it is created and performed.', additional_kwargs={'refusal': None}, response_metadata={'token_usage': {'completion_tokens': 193, 'prompt_tokens': 11, 'total_tokens': 204, 'completion_tokens_details': {'accepted_prediction_tokens': 0, 'audio_tokens': 0, 'reasoning_tokens': 0, 'rejected_prediction_tokens': 0}, 'prompt_tokens_details': {'audio_tokens': 0, 'cached_tokens': 0}}, 'model_name': 'gpt-4o-2024-11-20', 'system_fingerprint': 'fp_f3927aa00d', 'prompt_filter_results': [{'prompt_index': 0, 'content_filter_results': {'hate': {'filtered': False, 'severity': 'safe'}, 'jailbreak': {'filtered': False, 'detected': False}, 'self_harm': {'filtered': False, 'severity': 'safe'}, 'sexual': {'filtered': False, 'severity': 'safe'}, 'violence': {'filtered': False, 'severity': 'safe'}}}], 'finish_reason': 'stop', 'logprobs': None, 'content_filter_results': {'hate': {'filtered': False, 'severity': 'safe'}, 'protected_material_code': {'filtered': False, 'detected': False}, 'protected_material_text': {'filtered': False, 'detected': False}, 'self_harm': {'filtered': False, 'severity': 'safe'}, 'sexual': {'filtered': False, 'severity': 'safe'}, 'violence': {'filtered': False, 'severity': 'safe'}}}, id='run-0b8686be-2690-4f4f-8243-09021c4aaaa0-0', usage_metadata={'input_tokens': 11, 'output_tokens': 193, 'total_tokens': 204, 'input_token_details': {'audio': 0, 'cache_read': 0}, 'output_token_details': {'audio': 0, 'reasoning': 0}})"
      ]
     },
     "execution_count": 4,
     "metadata": {},
     "output_type": "execute_result"
    }
   ],
   "source": []
  },
  {
   "cell_type": "markdown",
   "metadata": {},
   "source": [
    "# 3. WORD EMBEDDINGS"
   ]
  },
  {
   "cell_type": "markdown",
   "metadata": {},
   "source": [
    "## a. Using Pinecone Embedding"
   ]
  },
  {
   "cell_type": "code",
   "execution_count": 133,
   "metadata": {},
   "outputs": [],
   "source": [
    "from langchain_pinecone import PineconeEmbeddings\n",
    "import os\n",
    "\n",
    "model_name = 'multilingual-e5-large'\n",
    "embeddings1 = PineconeEmbeddings(\n",
    "    model=model_name,\n",
    "    pinecone_api_key=os.environ.get('PINECONE_API_KEY')\n",
    ")\n",
    "\n",
    "# Extract text content from documents\n",
    "text_documents = [chunk.page_content for chunk in text_chunks]\n",
    "word_embeddings2 = embeddings1.embed_documents(text_documents)\n"
   ]
  },
  {
   "cell_type": "markdown",
   "metadata": {},
   "source": [
    "## b. Using Hugging Face Embedding"
   ]
  },
  {
   "cell_type": "code",
   "execution_count": 134,
   "metadata": {},
   "outputs": [],
   "source": [
    "from langchain_huggingface import HuggingFaceEmbeddings\n",
    "\n",
    "# Load the model (No API key needed)\n",
    "embeddings = HuggingFaceEmbeddings(model_name=\"sentence-transformers/all-MiniLM-L6-v2\")\n",
    "\n",
    "# Generate embeddings for a document\n",
    "text_documents = [chunk.page_content for chunk in text_chunks]\n",
    "word_embeddings = embeddings.embed_documents(text_documents)\n"
   ]
  },
  {
   "cell_type": "markdown",
   "metadata": {},
   "source": [
    "# CREATING VECTOR STORE"
   ]
  },
  {
   "cell_type": "markdown",
   "metadata": {},
   "source": [
    "## Using Pinecone"
   ]
  },
  {
   "cell_type": "markdown",
   "metadata": {},
   "source": [
    "### Initializing Vector Index"
   ]
  },
  {
   "cell_type": "code",
   "execution_count": 140,
   "metadata": {},
   "outputs": [],
   "source": [
    "from pinecone import Pinecone, ServerlessSpec\n",
    "\n",
    "pc = Pinecone(api_key=os.environ.get(\"PINECONE_API_KEY\"))\n",
    " \n",
    "\n",
    "index_name = \"musicbot\"\n",
    "\n",
    "pc.create_index(\n",
    "    name=index_name,\n",
    "    dimension=384,\n",
    "    metric=\"cosine\",\n",
    "    spec=ServerlessSpec(\n",
    "        cloud='aws', \n",
    "        region='us-east-1'\n",
    "    )\n",
    ")\n"
   ]
  },
  {
   "cell_type": "markdown",
   "metadata": {},
   "source": [
    "### Uploading text Chunks"
   ]
  },
  {
   "cell_type": "code",
   "execution_count": 141,
   "metadata": {},
   "outputs": [],
   "source": [
    "from langchain_pinecone import PineconeVectorStore\n",
    "\n",
    "docsearch = PineconeVectorStore.from_documents(\n",
    "    documents=text_chunks,\n",
    "    index_name=index_name,\n",
    "    embedding=embeddings,\n",
    ")"
   ]
  },
  {
   "cell_type": "markdown",
   "metadata": {},
   "source": [
    "## Using Chroma"
   ]
  },
  {
   "cell_type": "code",
   "execution_count": 155,
   "metadata": {},
   "outputs": [],
   "source": [
    "from langchain_chroma import Chroma\n",
    "\n",
    "db = Chroma.from_documents(\n",
    "    documents=text_chunks,\n",
    "    embedding=embeddings,\n",
    ")"
   ]
  },
  {
   "cell_type": "code",
   "execution_count": 156,
   "metadata": {},
   "outputs": [
    {
     "data": {
      "text/plain": [
       "[Document(id='61f17a0e-1869-4d04-8e0b-63e5c60b01d1', metadata={'page': 23, 'page_label': '24', 'source': 'Data\\\\Hindustani_Music_ThBook1_Eng.pdf', 'text': '13\\nHindustani Music\\nNotes\\nIntroduction of Hindustani Music\\n17. creation – to make\\n18. pronounce – to produce sound verbally\\n19. mixed – combined\\n20. elaboration – to spread\\n21. omnipresent – forever present'}, page_content='13\\nHindustani Music\\nNotes\\nIntroduction of Hindustani Music\\n17. creation – to make\\n18. pronounce – to produce sound verbally\\n19. mixed – combined\\n20. elaboration – to spread\\n21. omnipresent – forever present'),\n",
       " Document(id='2bb7bb98-bd45-4cc6-89e1-8f2f502e9d86', metadata={'page': 98, 'page_label': '99', 'source': 'Data\\\\Hindustani_Music_ThBook1_Eng.pdf', 'text': 'Hindustani classical music among st masses 1. Re-establishing \\nof theoretical aspect of Hindusta ni music and its co-ordination \\nwith practical music, setting up of proper institutions for the \\ngrowth and development of music.  \\n2. Publishing and editing of vari ous rare Sankrit works related \\nto music. He compiled several composition in his own system \\nof notation. \\nOr \\nDiscussion of the impact of the contribution of Pt. Vishnu \\nDigambar Paluskar to Hindustani music :'}, page_content='Hindustani classical music among st masses 1. Re-establishing \\nof theoretical aspect of Hindusta ni music and its co-ordination \\nwith practical music, setting up of proper institutions for the \\ngrowth and development of music.  \\n2. Publishing and editing of vari ous rare Sankrit works related \\nto music. He compiled several composition in his own system \\nof notation. \\nOr \\nDiscussion of the impact of the contribution of Pt. Vishnu \\nDigambar Paluskar to Hindustani music :'),\n",
       " Document(id='4c6adafa-a877-4afd-ab7e-1695f7752508', metadata={'page': 9, 'page_label': '10', 'source': 'Data\\\\Hindustani_Music_ThBook1_Eng.pdf', 'text': 'CONTENTS\\nSr.No. Title Page No.\\n1. Introduction of Hindustani Music 1\\n2. Elements of Raga 14\\n3. The Elements of Tala 21\\n4. Study of Forms - Dhrupad and Dhamar 28\\n5. Notation System of Hindustani Music 33\\n6. Brief study of music in Veda with special\\nreference to Sama Veda 39\\n7. Brief Introduction to Sangeet Ratnakar 47\\n8. Brief Study of Contents of Sangeet Parijat 57\\n9. Life sketch and contribution of great entities\\nin the field of music - Raja Mansingh Tomar, Tansen, 63\\nSadarang–Adarang'}, page_content='CONTENTS\\nSr.No. Title Page No.\\n1. Introduction of Hindustani Music 1\\n2. Elements of Raga 14\\n3. The Elements of Tala 21\\n4. Study of Forms - Dhrupad and Dhamar 28\\n5. Notation System of Hindustani Music 33\\n6. Brief study of music in Veda with special\\nreference to Sama Veda 39\\n7. Brief Introduction to Sangeet Ratnakar 47\\n8. Brief Study of Contents of Sangeet Parijat 57\\n9. Life sketch and contribution of great entities\\nin the field of music - Raja Mansingh Tomar, Tansen, 63\\nSadarang–Adarang'),\n",
       " Document(id='eb766c90-fedd-4e19-b1e6-742b3bf8fd3a', metadata={'page': 89, 'page_label': '90', 'source': 'Data\\\\Hindustani_Music_ThBook1_Eng.pdf', 'text': '(i)\\nCurriculum of Hindustani Music (242) \\nSecondary Level  \\n \\nRationale \\nSince time immemorial music has been an effective way of expressing various emotions like joy, \\nsorrow, relaxation etc. Music is the most natu ral and spontaneous medium of communication as \\ncompared to other art forms as it is directly related to ‘Prana’ or soul. In Indian culture and \\nheritage it has been an integral part of Indian psyche as it is related to every aspect of life and is'}, page_content='(i)\\nCurriculum of Hindustani Music (242) \\nSecondary Level  \\n \\nRationale \\nSince time immemorial music has been an effective way of expressing various emotions like joy, \\nsorrow, relaxation etc. Music is the most natu ral and spontaneous medium of communication as \\ncompared to other art forms as it is directly related to ‘Prana’ or soul. In Indian culture and \\nheritage it has been an integral part of Indian psyche as it is related to every aspect of life and is')]"
      ]
     },
     "execution_count": 156,
     "metadata": {},
     "output_type": "execute_result"
    }
   ],
   "source": [
    "## Vector database\n",
    "query=\"What is the origin of Hindustani Music?\"\n",
    "result = db.similarity_search(query)\n",
    "result"
   ]
  },
  {
   "cell_type": "markdown",
   "metadata": {},
   "source": [
    "# Intigrating with LLM"
   ]
  },
  {
   "cell_type": "code",
   "execution_count": 157,
   "metadata": {},
   "outputs": [
    {
     "name": "stderr",
     "output_type": "stream",
     "text": [
      "c:\\Users\\PRATEEK G\\Miniconda3\\envs\\musicbot\\lib\\site-packages\\langsmith\\client.py:253: LangSmithMissingAPIKeyWarning: API key must be provided when using hosted LangSmith API\n",
      "  warnings.warn(\n"
     ]
    }
   ],
   "source": [
    "from langchain_openai import AzureChatOpenAI\n",
    "from langchain.chains import create_retrieval_chain\n",
    "from langchain.chains.combine_documents import create_stuff_documents_chain\n",
    "from langchain import hub\n",
    "\n",
    "retrieval_qa_chat_prompt = hub.pull(\"langchain-ai/retrieval-qa-chat\")\n",
    "retriever=db.as_retriever()\n",
    "\n",
    "llm = AzureChatOpenAI(\n",
    "    azure_deployment=\"gpt-4o\",  # or your deployment\n",
    "    api_version=\"2023-09-01-preview\",  # or your api version\n",
    "    temperature=0.6,\n",
    ")\n",
    "\n",
    "combine_docs_chain = create_stuff_documents_chain(\n",
    "    llm, retrieval_qa_chat_prompt\n",
    ")\n",
    "retrieval_chain = create_retrieval_chain(retriever, combine_docs_chain)\n"
   ]
  },
  {
   "cell_type": "markdown",
   "metadata": {},
   "source": [
    "# Final Result"
   ]
  },
  {
   "cell_type": "code",
   "execution_count": 159,
   "metadata": {},
   "outputs": [
    {
     "name": "stdout",
     "output_type": "stream",
     "text": [
      "The oldest forms of Hindustani classical music which are still in vogue are **Dhrupad** and **Dhamar**.\n"
     ]
    }
   ],
   "source": [
    "response = retrieval_chain.invoke({\"input\": \"Which are the oldest forms of Hindustani classical music which are still in vogue?\"})\n",
    "answer = response.get(\"answer\", \"I don't know the answer.\")\n",
    "print(answer)"
   ]
  },
  {
   "cell_type": "code",
   "execution_count": null,
   "metadata": {},
   "outputs": [],
   "source": []
  }
 ],
 "metadata": {
  "kernelspec": {
   "display_name": "musicbot",
   "language": "python",
   "name": "python3"
  },
  "language_info": {
   "codemirror_mode": {
    "name": "ipython",
    "version": 3
   },
   "file_extension": ".py",
   "mimetype": "text/x-python",
   "name": "python",
   "nbconvert_exporter": "python",
   "pygments_lexer": "ipython3",
   "version": "3.10.16"
  }
 },
 "nbformat": 4,
 "nbformat_minor": 2
}
